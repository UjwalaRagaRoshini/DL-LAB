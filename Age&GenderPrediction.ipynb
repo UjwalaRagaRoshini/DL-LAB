{
  "nbformat": 4,
  "nbformat_minor": 0,
  "metadata": {
    "colab": {
      "provenance": [],
      "authorship_tag": "ABX9TyPkoJfS04b8tCA/nvofF4Ay",
      "include_colab_link": true
    },
    "kernelspec": {
      "name": "python3",
      "display_name": "Python 3"
    },
    "language_info": {
      "name": "python"
    }
  },
  "cells": [
    {
      "cell_type": "markdown",
      "metadata": {
        "id": "view-in-github",
        "colab_type": "text"
      },
      "source": [
        "<a href=\"https://colab.research.google.com/github/UjwalaRagaRoshini/DL-LAB/blob/main/Age%26GenderPrediction.ipynb\" target=\"_parent\"><img src=\"https://colab.research.google.com/assets/colab-badge.svg\" alt=\"Open In Colab\"/></a>"
      ]
    },
    {
      "cell_type": "code",
      "execution_count": 1,
      "metadata": {
        "id": "lhYsRV9aNXLd"
      },
      "outputs": [],
      "source": [
        "import os\n",
        "import numpy as np\n",
        "import pandas as pd\n",
        "import matplotlib.pyplot as plt\n",
        "%matplotlib inline\n",
        "from sklearn.preprocessing import LabelEncoder\n",
        "from tensorflow.python import keras\n",
        "from tensorflow.python.keras import utils\n",
        "from tensorflow.keras import utils\n",
        "from tensorflow.keras.utils import to_categorical\n",
        "from keras.utils import to_categorical\n",
        "import keras\n",
        "from keras.models import Sequential\n",
        "from keras.layers import Dense, Flatten, InputLayer\n",
        "import imageio\n",
        "from PIL import Image"
      ]
    },
    {
      "cell_type": "code",
      "source": [
        "!unzip agedetectiontrain.zip\n",
        "!unzip agedetectiontest.zip"
      ],
      "metadata": {
        "id": "3o349_iqNmuw",
        "colab": {
          "base_uri": "https://localhost:8080/"
        },
        "outputId": "e5d29816-3b8e-4031-ef01-8643c68976c7"
      },
      "execution_count": 2,
      "outputs": [
        {
          "output_type": "stream",
          "name": "stdout",
          "text": [
            "unzip:  cannot find or open agedetectiontrain.zip, agedetectiontrain.zip.zip or agedetectiontrain.zip.ZIP.\n",
            "unzip:  cannot find or open agedetectiontest.zip, agedetectiontest.zip.zip or agedetectiontest.zip.ZIP.\n"
          ]
        }
      ]
    },
    {
      "cell_type": "code",
      "source": [
        "input_num_units = (32, 32, 3)\n",
        "hidden_num_units = 500\n",
        "output_num_units = 3\n",
        "epochs = 5\n",
        "batch_size = 128"
      ],
      "metadata": {
        "id": "eF3aAdPBNnx6"
      },
      "execution_count": 3,
      "outputs": []
    },
    {
      "cell_type": "code",
      "source": [
        "model = Sequential([\n",
        "  InputLayer(input_shape=input_num_units),\n",
        "  Flatten(),\n",
        "  Dense(units=hidden_num_units, activation='relu'),\n",
        "  Dense(units=output_num_units, activation='softmax'),\n",
        "])"
      ],
      "metadata": {
        "id": "R1KHjHIPNqcw"
      },
      "execution_count": 4,
      "outputs": []
    },
    {
      "cell_type": "code",
      "source": [
        "model.summary()"
      ],
      "metadata": {
        "id": "KUuWYE3mNt-G",
        "colab": {
          "base_uri": "https://localhost:8080/"
        },
        "outputId": "31b57872-1138-47c6-e3c4-1f85cd404721"
      },
      "execution_count": 5,
      "outputs": [
        {
          "output_type": "stream",
          "name": "stdout",
          "text": [
            "Model: \"sequential\"\n",
            "_________________________________________________________________\n",
            " Layer (type)                Output Shape              Param #   \n",
            "=================================================================\n",
            " flatten (Flatten)           (None, 3072)              0         \n",
            "                                                                 \n",
            " dense (Dense)               (None, 500)               1536500   \n",
            "                                                                 \n",
            " dense_1 (Dense)             (None, 3)                 1503      \n",
            "                                                                 \n",
            "=================================================================\n",
            "Total params: 1538003 (5.87 MB)\n",
            "Trainable params: 1538003 (5.87 MB)\n",
            "Non-trainable params: 0 (0.00 Byte)\n",
            "_________________________________________________________________\n"
          ]
        }
      ]
    },
    {
      "cell_type": "code",
      "source": [
        "model.compile(optimizer='sgd', loss='categorical_crossentropy', metrics=['accuracy'])"
      ],
      "metadata": {
        "id": "wRm_z0uFN2is"
      },
      "execution_count": 6,
      "outputs": []
    },
    {
      "cell_type": "code",
      "source": [
        "model.fit(train_x, train_y, batch_size=batch_size, epochs=epochs, verbose=1, validation_split=0.2)\n"
      ],
      "metadata": {
        "id": "yyMf1rPeN3gI"
      },
      "execution_count": null,
      "outputs": []
    },
    {
      "cell_type": "code",
      "source": [
        "pred = np.argmax(model.predict(test_x),axis=1)\n",
        "pred = lb.inverse_transform(pred)\n",
        "test['Class'] = pred\n",
        "test.to_csv('out.csv', index=False)"
      ],
      "metadata": {
        "id": "dgY1BIf5N6ly",
        "colab": {
          "base_uri": "https://localhost:8080/",
          "height": 227
        },
        "outputId": "5579bff6-c6bb-4462-805c-54a3e1d37a1e"
      },
      "execution_count": 8,
      "outputs": [
        {
          "output_type": "error",
          "ename": "NameError",
          "evalue": "ignored",
          "traceback": [
            "\u001b[0;31m---------------------------------------------------------------------------\u001b[0m",
            "\u001b[0;31mNameError\u001b[0m                                 Traceback (most recent call last)",
            "\u001b[0;32m<ipython-input-8-aa5bd9a90ddf>\u001b[0m in \u001b[0;36m<cell line: 1>\u001b[0;34m()\u001b[0m\n\u001b[0;32m----> 1\u001b[0;31m \u001b[0mpred\u001b[0m \u001b[0;34m=\u001b[0m \u001b[0mnp\u001b[0m\u001b[0;34m.\u001b[0m\u001b[0margmax\u001b[0m\u001b[0;34m(\u001b[0m\u001b[0mmodel\u001b[0m\u001b[0;34m.\u001b[0m\u001b[0mpredict\u001b[0m\u001b[0;34m(\u001b[0m\u001b[0mtest_x\u001b[0m\u001b[0;34m)\u001b[0m\u001b[0;34m,\u001b[0m\u001b[0maxis\u001b[0m\u001b[0;34m=\u001b[0m\u001b[0;36m1\u001b[0m\u001b[0;34m)\u001b[0m\u001b[0;34m\u001b[0m\u001b[0;34m\u001b[0m\u001b[0m\n\u001b[0m\u001b[1;32m      2\u001b[0m \u001b[0mpred\u001b[0m \u001b[0;34m=\u001b[0m \u001b[0mlb\u001b[0m\u001b[0;34m.\u001b[0m\u001b[0minverse_transform\u001b[0m\u001b[0;34m(\u001b[0m\u001b[0mpred\u001b[0m\u001b[0;34m)\u001b[0m\u001b[0;34m\u001b[0m\u001b[0;34m\u001b[0m\u001b[0m\n\u001b[1;32m      3\u001b[0m \u001b[0mtest\u001b[0m\u001b[0;34m[\u001b[0m\u001b[0;34m'Class'\u001b[0m\u001b[0;34m]\u001b[0m \u001b[0;34m=\u001b[0m \u001b[0mpred\u001b[0m\u001b[0;34m\u001b[0m\u001b[0;34m\u001b[0m\u001b[0m\n\u001b[1;32m      4\u001b[0m \u001b[0mtest\u001b[0m\u001b[0;34m.\u001b[0m\u001b[0mto_csv\u001b[0m\u001b[0;34m(\u001b[0m\u001b[0;34m'out.csv'\u001b[0m\u001b[0;34m,\u001b[0m \u001b[0mindex\u001b[0m\u001b[0;34m=\u001b[0m\u001b[0;32mFalse\u001b[0m\u001b[0;34m)\u001b[0m\u001b[0;34m\u001b[0m\u001b[0;34m\u001b[0m\u001b[0m\n",
            "\u001b[0;31mNameError\u001b[0m: name 'test_x' is not defined"
          ]
        }
      ]
    },
    {
      "cell_type": "code",
      "source": [
        "idx = 2481\n",
        "img_name = test.ID[idx]\n",
        "img = imageio.imread(os.path.join('/content/Test', img_name))\n",
        "plt.imshow(np.array(Image.fromarray(img).resize((128, 128))))\n",
        "pred = np.argmax(model.predict(test_x),axis=1)\n",
        "#pred = model.predict_classes(test_x)\n",
        "print('Original:', train.Class[idx], 'Predicted:', lb.inverse_transform([pred[idx]]))\n"
      ],
      "metadata": {
        "id": "5s1IUC3UN9Zc"
      },
      "execution_count": null,
      "outputs": []
    }
  ]
}